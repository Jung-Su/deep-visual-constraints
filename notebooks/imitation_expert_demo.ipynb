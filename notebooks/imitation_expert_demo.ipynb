{
 "cells": [
  {
   "cell_type": "code",
   "execution_count": 21,
   "id": "13d330ae-bbb8-4c99-be45-337dcddaca10",
   "metadata": {},
   "outputs": [],
   "source": [
    "import os\n",
    "from os import path\n",
    "import h5py\n",
    "import time\n",
    "import sys\n",
    "\n",
    "sys.path.append('../../../rai-fork/rai/ry')\n",
    "import libry as ry\n",
    "import numpy as np\n",
    "import matplotlib.pyplot as plt\n",
    "\n",
    "from src.simulation_utils import *"
   ]
  },
  {
   "cell_type": "code",
   "execution_count": 22,
   "id": "17220cd8-952a-418a-ab7c-3dc4f5556ffd",
   "metadata": {},
   "outputs": [
    {
     "name": "stdout",
     "output_type": "stream",
     "text": [
      "0.10730413538236316\n"
     ]
    }
   ],
   "source": [
    "load_dir = '../dataGeneration_vF/data/object'\n",
    "ind = 2\n",
    "\n",
    "filename = [fn for fn in os.listdir(load_dir) if fn.endswith('.hdf5')][ind]\n",
    "    \n",
    "data_obj = h5py.File(path.join(load_dir, filename), mode='r')\n",
    "filename = data_obj['filename'][()].decode()\n",
    "mesh_coll_name = path.join('data/meshes_coll', filename)\n",
    "size = data_obj['size'][()]\n",
    "print(size)\n",
    "mass = data_obj['mass'][()]\n",
    "com = data_obj['com'][:]\n",
    "data_obj.close()\n",
    "\n",
    "C = ry.Config()\n",
    "C.addFile('world4.g')\n",
    "mug = C.addMeshFrame(mesh_coll_name, 'mug', mass=mass, com=com)\n",
    "mug.setPosition([0.,-0.2,1.0]).setQuaternion([1,0,0,1.])\n",
    "C.selectJoints([j for j in C.getJointNames() if j not in ['L_finger']])\n",
    "\n",
    "S = C.simulation(ry.SimulatorEngine.bullet, 1)\n",
    "for _ in range(500):\n",
    "    S.step([], 0.01, ry.ControlMode.none)\n",
    "fInit = C.getFrameState()\n",
    "qInit = C.getJointState()"
   ]
  },
  {
   "cell_type": "code",
   "execution_count": 23,
   "id": "6b7e6a48-d8ba-4b29-93fc-92aa3eec9c92",
   "metadata": {
    "tags": []
   },
   "outputs": [],
   "source": [
    "C.selectJoints([j for j in C.getJointNames() if j not in ['L_finger']])\n",
    "V = ry.ConfigurationViewer()\n",
    "V.setConfiguration(C)\n",
    "\n",
    "C.addFrame('graspedObj', 'gripperCenter').setRelativePosition([0,0,-.1])\n",
    "\n",
    "stepsPerPhase = 10\n",
    "komo = C.komo(3., stepsPerPhase, 5., 2, False)\n",
    "komo.verbose(3)\n",
    "# komo.animateOptimization(True)\n",
    "\n",
    "Sk = [[1., 3.], ry.SY.stable, [\"gripper\", \"mug\"]]\n",
    "komo.addSkeleton(Sk)\n",
    "\n",
    "komo.add_qControlObjective([], 2)\n",
    "komo.add_qControlObjective([], 1)\n",
    "\n",
    "colls = [\"gripper_coll\", \n",
    "         \"L_finger_coll1\", \"L_finger_coll2\",\n",
    "         \"R_finger_coll1\", \"R_finger_coll2\"]\n",
    "\n",
    "\n",
    "komo.addObjective([1.], ry.FS.positionRel, [\"gripperCenter\", \"mug\"], ry.OT.eq, [1e0], target=[0.1,0,0])\n",
    "komo.addObjective([1.], ry.FS.vectorZ, [\"gripperCenter\"], ry.OT.eq, [1e0], target=[0,1/np.sqrt(2),1/np.sqrt(2)])\n",
    "komo.addObjective([1.], ry.FS.scalarProductXZ, [\"gripperCenter\", \"world\"], ry.OT.eq, [1e0])\n",
    "komo.addObjective([.7, 1.], ry.FS.quaternion, [\"gripperCenter\"], ry.OT.eq, [1e0], order=1)\n",
    "komo.addObjective([.7, 1.], ry.FS.positionRel, [\"mug\", \"gripperCenter\"], ry.OT.eq, [1e1], target=[0,0,-.1], order=2)\n",
    "komo.addObjective([1.], ry.FS.qItself, C.getJointNames(), ry.OT.eq, [1e1], order=1)\n",
    "\n",
    "\n",
    "\n",
    "komo.addObjective([1., 2.], ry.FS.vectorZ, [\"mug\"], ry.OT.eq, [1e0], order=1)\n",
    "komo.addObjective([2., 3.], ry.FS.position, [\"gripperCenter\"], ry.OT.eq, [1e0], target=[.15, .3, 1.3])\n",
    "\n",
    "komo.addObjective([3.], ry.FS.vectorZ, [\"mug\"], ry.OT.eq, [1e0], target=[1/np.sqrt(2), 0, -1/np.sqrt(2)])\n",
    "komo.addObjective([3.], ry.FS.qItself, C.getJointNames(), ry.OT.eq, [1e1], order=1)\n",
    "\n",
    "komo.optimize(0.1)\n",
    "\n",
    "V=komo.view()"
   ]
  },
  {
   "cell_type": "code",
   "execution_count": 25,
   "id": "e3105eea-b2b1-45cc-88e4-65ca4596cb52",
   "metadata": {},
   "outputs": [],
   "source": [
    "def stepTo(S, q, tau=0.1):\n",
    "    N = int(tau/0.01)\n",
    "    dq = q - S.get_q()\n",
    "    for i in range(N):\n",
    "        S.step(S.get_q()+dq/N, tau/N, ry.ControlMode.position)\n",
    "        time.sleep(tau/N)\n",
    "        \n",
    "RealWorld = ry.Config()\n",
    "RealWorld.addFile('world4.g')\n",
    "mug = RealWorld.addMeshFrame(mesh_coll_name, 'mug', mass=mass, com=com)\n",
    "RealWorld.setFrameState(fInit)\n",
    "for i in range(10):\n",
    "    pos = mug.getPosition() + np.array([0,0,.05+.05*i])\n",
    "    b = RealWorld.addFrame('ball_'+str(i)).setShape(ry.ST.sphere, [0.015]).setColor([.8,.6,.6])\n",
    "    b.setPosition(pos).setMass(0.00001)#.addAttribute('friction',0.0)\n",
    "RealWorld.selectJoints([j for j in RealWorld.getJointNames() if j not in ['L_finger']])\n",
    "camera_name_list = ['camera_'+str(i) for i in range(4)]\n",
    "camera = RealWorld.cameraView()\n",
    "for camera_name in camera_name_list: \n",
    "    camera.addSensorFromFrame(camera_name)\n",
    "\n",
    "t = 0\n",
    "save_dir = 'screenshots/imitation_ref/'\n",
    "\n",
    "S = RealWorld.simulation(ry.SimulatorEngine.bullet, 4)\n",
    "tau = 0.1\n",
    "for _ in range(500):\n",
    "    S.step([], 0.01, ry.ControlMode.none)\n",
    "    \n",
    "for t in range(stepsPerPhase):\n",
    "    C.setFrameState(komo.getConfiguration(t))\n",
    "    q = C.getJointState()\n",
    "    stepTo(S, q)\n",
    "    plt.imsave(save_dir+str(t).zfill(3)+'.png', S.getScreenshot()[::-1])\n",
    "    t += 1\n",
    "\n",
    "    \n",
    "S.closeGripper(\"gripper\", speed=3., objFrameName=\"mug\")\n",
    "while not (S.getGripperIsGrasping(\"gripper\") or S.getGripperIsClose(\"gripper\")):\n",
    "    stepTo(S, S.get_q())\n",
    "    \n",
    "plt.imsave(save_dir+str(t).zfill(3)+'.png', S.getScreenshot()[::-1])\n",
    "t += 1\n",
    "for t in range(stepsPerPhase,2*stepsPerPhase):\n",
    "    C.setFrameState(komo.getConfiguration(t))\n",
    "    q = C.getJointState()\n",
    "    stepTo(S, q, 0.2)\n",
    "    plt.imsave(save_dir+str(t).zfill(3)+'.png', S.getScreenshot()[::-1])\n",
    "    t += 1\n",
    "    \n",
    "out1 = get_all_images(RealWorld, \n",
    "                     camera, \n",
    "                     camera_name_list, \n",
    "                     ['mug'], \n",
    "                     r=0.15, )\n",
    "    \n",
    "    \n",
    "for t in range(2*stepsPerPhase, 3*stepsPerPhase):\n",
    "    C.setFrameState(komo.getConfiguration(t))\n",
    "    q = C.getJointState()\n",
    "    stepTo(S, q, 0.2)\n",
    "    plt.imsave(save_dir+str(t).zfill(3)+'.png', S.getScreenshot()[::-1])\n",
    "    t += 1\n",
    "\n",
    "out2 = get_all_images(RealWorld, \n",
    "                     camera, \n",
    "                     camera_name_list, \n",
    "                     ['mug'], \n",
    "                     r=0.15, )\n",
    "\n",
    "for i in range(10):\n",
    "    for _ in range(10): S.step([], 0.01, ry.ControlMode.none)\n",
    "    plt.imsave(save_dir+str(t).zfill(3)+'.png', S.getScreenshot()[::-1])\n",
    "    t += 1"
   ]
  },
  {
   "cell_type": "code",
   "execution_count": 16,
   "id": "3c69358b-d7ba-4de0-a053-44bb36c94f03",
   "metadata": {},
   "outputs": [],
   "source": [
    "with h5py.File('target1.hdf5', mode='w') as f:\n",
    "    f.create_dataset('rgb', data=out1[2])\n",
    "    f.create_dataset('projection', data=out1[3])\n",
    "    f.create_dataset('obj_pos', data=out1[4])\n",
    "    f.create_dataset('obj_r', data=out1[5])\n",
    "    \n",
    "with h5py.File('target2.hdf5', mode='w') as f:\n",
    "    f.create_dataset('rgb', data=out2[2])\n",
    "    f.create_dataset('projection', data=out2[3])\n",
    "    f.create_dataset('obj_pos', data=out2[4])\n",
    "    f.create_dataset('obj_r', data=out2[5])"
   ]
  },
  {
   "cell_type": "code",
   "execution_count": 26,
   "id": "1610b1af-9f3a-4c5e-b0ff-b3081179a654",
   "metadata": {},
   "outputs": [
    {
     "data": {
      "text/plain": [
       "0"
      ]
     },
     "execution_count": 26,
     "metadata": {},
     "output_type": "execute_result"
    }
   ],
   "source": [
    "os.system('ffmpeg -r 5 -pattern_type glob -i \\'screenshots/imitation_ref/*.png\\' -c:v libx264 imitation_ref.mp4')"
   ]
  },
  {
   "cell_type": "code",
   "execution_count": null,
   "id": "a9019527-fe69-4ed9-a4fd-f6819a5efbbd",
   "metadata": {},
   "outputs": [],
   "source": []
  }
 ],
 "metadata": {
  "kernelspec": {
   "display_name": "torchSource",
   "language": "python",
   "name": "torchsource"
  },
  "language_info": {
   "codemirror_mode": {
    "name": "ipython",
    "version": 3
   },
   "file_extension": ".py",
   "mimetype": "text/x-python",
   "name": "python",
   "nbconvert_exporter": "python",
   "pygments_lexer": "ipython3",
   "version": "3.9.7"
  }
 },
 "nbformat": 4,
 "nbformat_minor": 5
}
